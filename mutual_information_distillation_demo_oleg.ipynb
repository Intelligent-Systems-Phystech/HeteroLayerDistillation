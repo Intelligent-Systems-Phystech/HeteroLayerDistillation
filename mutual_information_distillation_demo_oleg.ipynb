{
 "cells": [
  {
   "cell_type": "code",
   "execution_count": 1,
   "metadata": {},
   "outputs": [],
   "source": [
    "import sys\n",
    "sys.path.append('../code')\n",
    "from resnet import *\n",
    "from funcs import *\n",
    "from cifar_very_tiny import *\n",
    "from cifar_dataset import *    \n",
    "import torch as t \n",
    "import numpy as np\n",
    "from numpy import polyfit\n",
    "from numpy import polyval\n",
    "import tqdm\n",
    "import matplotlib.pylab as plt\n",
    "import matplotlib.cm as cm\n",
    "import json\n",
    "import hyperparams\n",
    "from importlib import reload\n",
    "from scipy.interpolate import interp1d\n",
    "from PIL import Image\n",
    "%matplotlib inline\n",
    "plt.rcParams['figure.figsize']=(12,9)\n",
    "plt.rcParams['font.size']= 20"
   ]
  },
  {
   "cell_type": "code",
   "execution_count": 2,
   "metadata": {},
   "outputs": [
    {
     "name": "stdout",
     "output_type": "stream",
     "text": [
      "Files already downloaded and verified\n",
      "Files already downloaded and verified\n"
     ]
    }
   ],
   "source": [
    "# добавил в загрузку валидационную выборку\n",
    "# обрати внимание, maxsize --- это размер совокпного обучения и валидации\n",
    "# поэтому размер обучающей выборки совпадает с тем, что было до этого\n",
    "\n",
    "train_loader_no_augumentation, test_loader = cifar10_loader(batch_size=128, split_train_val=False,\n",
    "                                                                             maxsize=128*100, use_aug=False)\n"
   ]
  },
  {
   "cell_type": "code",
   "execution_count": 3,
   "metadata": {},
   "outputs": [],
   "source": [
    "epoch_num = 50\n",
    "# epoch_num = 50\n",
    "\n",
    "run_num = 1 # количество запусков эксперимента\n",
    "\n",
    "# версия нужна, чтобы различать старые и новые результаты экспериментов. \n",
    "# менять нужно каждый раз, когда есть хотя бы незначительные изменения в эксперименте\n",
    "experiment_version = '1'\n",
    "\n",
    "validate_every_epoch = 5 \n",
    "\n",
    "# train_splines_every_epoch = 5 # каждые 5 эпох отслеживать траекторию гиперпараметров\n",
    "# train_splines_every_epoch = 2\n",
    "# train_splines_every_epoch = 3\n",
    "train_splines_every_epoch = 10\n",
    "\n",
    "# размер мини-эпохи в батчах, за которую у нас производится либо обучение спайлов, либо их использование\n",
    "mini_epoch_size = 10\n",
    "\n",
    "start_beta = 0.5\n",
    "start_temp  = 1.0"
   ]
  },
  {
   "cell_type": "code",
   "execution_count": 5,
   "metadata": {},
   "outputs": [
    {
     "name": "stderr",
     "output_type": "stream",
     "text": [
      "current loss:1.4524468183517456: 100%|██████████████████████████████████████████████████████████████████████████████████████████████████████████████████████████████████████████████████████████████████████████████████████████████████████████| 100/100 [00:15<00:00,  6.54it/s]\n"
     ]
    },
    {
     "name": "stdout",
     "output_type": "stream",
     "text": [
      "0 0.4010999798774719\n"
     ]
    },
    {
     "name": "stderr",
     "output_type": "stream",
     "text": [
      "current loss:1.3158849477767944: 100%|██████████████████████████████████████████████████████████████████████████████████████████████████████████████████████████████████████████████████████████████████████████████████████████████████████████| 100/100 [00:15<00:00,  6.59it/s]\n"
     ]
    },
    {
     "name": "stdout",
     "output_type": "stream",
     "text": [
      "1 0.4587000012397766\n"
     ]
    },
    {
     "name": "stderr",
     "output_type": "stream",
     "text": [
      "current loss:1.232130765914917: 100%|███████████████████████████████████████████████████████████████████████████████████████████████████████████████████████████████████████████████████████████████████████████████████████████████████████████| 100/100 [00:15<00:00,  6.56it/s]\n"
     ]
    },
    {
     "name": "stdout",
     "output_type": "stream",
     "text": [
      "2 0.4885999858379364\n"
     ]
    },
    {
     "name": "stderr",
     "output_type": "stream",
     "text": [
      "current loss:1.17633056640625: 100%|████████████████████████████████████████████████████████████████████████████████████████████████████████████████████████████████████████████████████████████████████████████████████████████████████████████| 100/100 [00:15<00:00,  6.55it/s]\n"
     ]
    },
    {
     "name": "stdout",
     "output_type": "stream",
     "text": [
      "3 0.4926999807357788\n"
     ]
    },
    {
     "name": "stderr",
     "output_type": "stream",
     "text": [
      "current loss:1.1258724927902222: 100%|██████████████████████████████████████████████████████████████████████████████████████████████████████████████████████████████████████████████████████████████████████████████████████████████████████████| 100/100 [00:15<00:00,  6.54it/s]\n"
     ]
    },
    {
     "name": "stdout",
     "output_type": "stream",
     "text": [
      "4 0.5023999810218811\n"
     ]
    },
    {
     "name": "stderr",
     "output_type": "stream",
     "text": [
      "current loss:1.0890954732894897: 100%|██████████████████████████████████████████████████████████████████████████████████████████████████████████████████████████████████████████████████████████████████████████████████████████████████████████| 100/100 [00:15<00:00,  6.52it/s]\n"
     ]
    },
    {
     "name": "stdout",
     "output_type": "stream",
     "text": [
      "5 0.5092999935150146\n"
     ]
    },
    {
     "name": "stderr",
     "output_type": "stream",
     "text": [
      "current loss:1.0501949787139893: 100%|██████████████████████████████████████████████████████████████████████████████████████████████████████████████████████████████████████████████████████████████████████████████████████████████████████████| 100/100 [00:15<00:00,  6.52it/s]\n"
     ]
    },
    {
     "name": "stdout",
     "output_type": "stream",
     "text": [
      "6 0.5097000002861023\n"
     ]
    },
    {
     "name": "stderr",
     "output_type": "stream",
     "text": [
      "current loss:1.015447735786438: 100%|███████████████████████████████████████████████████████████████████████████████████████████████████████████████████████████████████████████████████████████████████████████████████████████████████████████| 100/100 [00:15<00:00,  6.50it/s]\n"
     ]
    },
    {
     "name": "stdout",
     "output_type": "stream",
     "text": [
      "7 0.5182999968528748\n"
     ]
    },
    {
     "name": "stderr",
     "output_type": "stream",
     "text": [
      "current loss:0.9850146174430847: 100%|██████████████████████████████████████████████████████████████████████████████████████████████████████████████████████████████████████████████████████████████████████████████████████████████████████████| 100/100 [00:15<00:00,  6.50it/s]\n"
     ]
    },
    {
     "name": "stdout",
     "output_type": "stream",
     "text": [
      "8 0.51910001039505\n"
     ]
    },
    {
     "name": "stderr",
     "output_type": "stream",
     "text": [
      "current loss:0.9598676562309265: 100%|██████████████████████████████████████████████████████████████████████████████████████████████████████████████████████████████████████████████████████████████████████████████████████████████████████████| 100/100 [00:15<00:00,  6.52it/s]\n"
     ]
    },
    {
     "name": "stdout",
     "output_type": "stream",
     "text": [
      "9 0.5200999975204468\n"
     ]
    },
    {
     "name": "stderr",
     "output_type": "stream",
     "text": [
      "current loss:0.9366591572761536: 100%|██████████████████████████████████████████████████████████████████████████████████████████████████████████████████████████████████████████████████████████████████████████████████████████████████████████| 100/100 [00:15<00:00,  6.50it/s]\n"
     ]
    },
    {
     "name": "stdout",
     "output_type": "stream",
     "text": [
      "10 0.5236999988555908\n"
     ]
    },
    {
     "name": "stderr",
     "output_type": "stream",
     "text": [
      "current loss:0.9200618863105774: 100%|██████████████████████████████████████████████████████████████████████████████████████████████████████████████████████████████████████████████████████████████████████████████████████████████████████████| 100/100 [00:15<00:00,  6.51it/s]\n"
     ]
    },
    {
     "name": "stdout",
     "output_type": "stream",
     "text": [
      "11 0.51910001039505\n"
     ]
    },
    {
     "name": "stderr",
     "output_type": "stream",
     "text": [
      "current loss:0.9025346636772156: 100%|██████████████████████████████████████████████████████████████████████████████████████████████████████████████████████████████████████████████████████████████████████████████████████████████████████████| 100/100 [00:15<00:00,  6.51it/s]\n"
     ]
    },
    {
     "name": "stdout",
     "output_type": "stream",
     "text": [
      "12 0.5223999619483948\n"
     ]
    },
    {
     "name": "stderr",
     "output_type": "stream",
     "text": [
      "current loss:0.8855886459350586: 100%|██████████████████████████████████████████████████████████████████████████████████████████████████████████████████████████████████████████████████████████████████████████████████████████████████████████| 100/100 [00:15<00:00,  6.49it/s]\n"
     ]
    },
    {
     "name": "stdout",
     "output_type": "stream",
     "text": [
      "13 0.5196999907493591\n"
     ]
    },
    {
     "name": "stderr",
     "output_type": "stream",
     "text": [
      "current loss:0.8718538284301758: 100%|██████████████████████████████████████████████████████████████████████████████████████████████████████████████████████████████████████████████████████████████████████████████████████████████████████████| 100/100 [00:15<00:00,  6.50it/s]\n"
     ]
    },
    {
     "name": "stdout",
     "output_type": "stream",
     "text": [
      "14 0.5209999680519104\n"
     ]
    },
    {
     "name": "stderr",
     "output_type": "stream",
     "text": [
      "current loss:0.8540990948677063: 100%|██████████████████████████████████████████████████████████████████████████████████████████████████████████████████████████████████████████████████████████████████████████████████████████████████████████| 100/100 [00:15<00:00,  6.49it/s]\n"
     ]
    },
    {
     "name": "stdout",
     "output_type": "stream",
     "text": [
      "15 0.5194999575614929\n"
     ]
    },
    {
     "name": "stderr",
     "output_type": "stream",
     "text": [
      "current loss:0.8438474535942078: 100%|██████████████████████████████████████████████████████████████████████████████████████████████████████████████████████████████████████████████████████████████████████████████████████████████████████████| 100/100 [00:15<00:00,  6.47it/s]\n"
     ]
    },
    {
     "name": "stdout",
     "output_type": "stream",
     "text": [
      "16 0.5163999795913696\n"
     ]
    },
    {
     "name": "stderr",
     "output_type": "stream",
     "text": [
      "current loss:0.8349461555480957: 100%|██████████████████████████████████████████████████████████████████████████████████████████████████████████████████████████████████████████████████████████████████████████████████████████████████████████| 100/100 [00:15<00:00,  6.49it/s]\n"
     ]
    },
    {
     "name": "stdout",
     "output_type": "stream",
     "text": [
      "17 0.513700008392334\n"
     ]
    },
    {
     "name": "stderr",
     "output_type": "stream",
     "text": [
      "current loss:0.82623690366745: 100%|████████████████████████████████████████████████████████████████████████████████████████████████████████████████████████████████████████████████████████████████████████████████████████████████████████████| 100/100 [00:15<00:00,  6.48it/s]\n"
     ]
    },
    {
     "name": "stdout",
     "output_type": "stream",
     "text": [
      "18 0.5105999708175659\n"
     ]
    },
    {
     "name": "stderr",
     "output_type": "stream",
     "text": [
      "current loss:0.8123505711555481: 100%|██████████████████████████████████████████████████████████████████████████████████████████████████████████████████████████████████████████████████████████████████████████████████████████████████████████| 100/100 [00:15<00:00,  6.52it/s]\n"
     ]
    },
    {
     "name": "stdout",
     "output_type": "stream",
     "text": [
      "19 0.515500009059906\n"
     ]
    },
    {
     "name": "stderr",
     "output_type": "stream",
     "text": [
      "current loss:0.7950621247291565: 100%|██████████████████████████████████████████████████████████████████████████████████████████████████████████████████████████████████████████████████████████████████████████████████████████████████████████| 100/100 [00:15<00:00,  6.53it/s]\n"
     ]
    },
    {
     "name": "stdout",
     "output_type": "stream",
     "text": [
      "20 0.5194999575614929\n"
     ]
    },
    {
     "name": "stderr",
     "output_type": "stream",
     "text": [
      "current loss:0.7751855254173279: 100%|██████████████████████████████████████████████████████████████████████████████████████████████████████████████████████████████████████████████████████████████████████████████████████████████████████████| 100/100 [00:15<00:00,  6.48it/s]\n"
     ]
    },
    {
     "name": "stdout",
     "output_type": "stream",
     "text": [
      "21 0.51910001039505\n"
     ]
    },
    {
     "name": "stderr",
     "output_type": "stream",
     "text": [
      "current loss:0.7625908255577087: 100%|██████████████████████████████████████████████████████████████████████████████████████████████████████████████████████████████████████████████████████████████████████████████████████████████████████████| 100/100 [00:15<00:00,  6.47it/s]\n"
     ]
    },
    {
     "name": "stdout",
     "output_type": "stream",
     "text": [
      "22 0.5221999883651733\n"
     ]
    },
    {
     "name": "stderr",
     "output_type": "stream",
     "text": [
      "current loss:0.744619607925415: 100%|███████████████████████████████████████████████████████████████████████████████████████████████████████████████████████████████████████████████████████████████████████████████████████████████████████████| 100/100 [00:15<00:00,  6.49it/s]\n"
     ]
    },
    {
     "name": "stdout",
     "output_type": "stream",
     "text": [
      "23 0.5209000110626221\n"
     ]
    },
    {
     "name": "stderr",
     "output_type": "stream",
     "text": [
      "current loss:0.7325599789619446: 100%|██████████████████████████████████████████████████████████████████████████████████████████████████████████████████████████████████████████████████████████████████████████████████████████████████████████| 100/100 [00:15<00:00,  6.48it/s]\n"
     ]
    },
    {
     "name": "stdout",
     "output_type": "stream",
     "text": [
      "24 0.51910001039505\n"
     ]
    }
   ],
   "source": [
    "student = Cifar_Very_Tiny(10).cuda()\n",
    "teacher = ResNet18(10).cuda() \n",
    "#scheduler = torch.optim.lr_scheduler.StepLR(optim, step_size=10, gamma=0.5)   \n",
    "mu_feat = nn.Linear(512, 64).cuda()\n",
    "log_sigma_feat = torch.nn.Parameter(torch.zeros(1).cuda())\n",
    "optim = torch.optim.Adam(list(student.parameters()) + list(mu_feat.parameters()) + [log_sigma_feat])    \n",
    "\n",
    "crit = nn.CrossEntropyLoss()\n",
    "\n",
    "for e in range(25):\n",
    "    tq = tqdm.tqdm(train_loader_no_augumentation)\n",
    "    losses = []\n",
    "            \n",
    "    for batch_id, (x,y) in enumerate(tq):\n",
    "        x = x.to(device)\n",
    "        y = y.to(device)\n",
    "        optim.zero_grad()\n",
    "        student_feat, student_logits = student.get_features(x, [3,4])\n",
    "        teacher_feat, teacher_logits = teacher.get_features(x, [3,4])\n",
    "        class_loss = crit(student_logits, y)\n",
    "        sigma2 = torch.log(1+torch.exp(log_sigma_feat))\n",
    "        feat_loss = ((mu_feat(teacher_feat) - student_feat)**2).sum(1).mean()/sigma2 + torch.log(sigma2)*np.prod(teacher_feat.shape[1:])\n",
    "        loss = class_loss * 0.9# + feat_loss * 0.1\n",
    "        \n",
    "        loss.backward()\n",
    "        optim.step()\n",
    "        losses.append(loss.detach().cpu().numpy())\n",
    "        tq.set_description('current loss:{}'.format(np.mean(losses[-10:])))      \n",
    "    student.eval()\n",
    "    ac = float(accuracy(student, test_loader))\n",
    "    print(e, ac)\n",
    "    student.train()\n",
    "    with open('acc_naive.txt','a') as out:\n",
    "        out.write('{}: {}\\n'.format(e, ac))"
   ]
  },
  {
   "cell_type": "code",
   "execution_count": 5,
   "metadata": {},
   "outputs": [
    {
     "name": "stderr",
     "output_type": "stream",
     "text": [
      "current loss:1.62313711643219: 100%|██████████| 100/100 [00:39<00:00,  2.52it/s] \n"
     ]
    },
    {
     "name": "stdout",
     "output_type": "stream",
     "text": [
      "0 0.3920999765396118\n"
     ]
    },
    {
     "name": "stderr",
     "output_type": "stream",
     "text": [
      "current loss:1.4104820489883423: 100%|██████████| 100/100 [00:39<00:00,  2.52it/s]\n"
     ]
    },
    {
     "name": "stdout",
     "output_type": "stream",
     "text": [
      "1 0.47110000252723694\n"
     ]
    },
    {
     "name": "stderr",
     "output_type": "stream",
     "text": [
      "current loss:1.302858591079712: 100%|██████████| 100/100 [00:40<00:00,  2.50it/s]\n"
     ]
    },
    {
     "name": "stdout",
     "output_type": "stream",
     "text": [
      "2 0.5051000118255615\n"
     ]
    },
    {
     "name": "stderr",
     "output_type": "stream",
     "text": [
      "current loss:1.2346022129058838: 100%|██████████| 100/100 [00:40<00:00,  2.49it/s]\n"
     ]
    },
    {
     "name": "stdout",
     "output_type": "stream",
     "text": [
      "3 0.5163999795913696\n"
     ]
    },
    {
     "name": "stderr",
     "output_type": "stream",
     "text": [
      "current loss:1.1881580352783203: 100%|██████████| 100/100 [00:39<00:00,  2.51it/s]\n"
     ]
    },
    {
     "name": "stdout",
     "output_type": "stream",
     "text": [
      "4 0.5221999883651733\n"
     ]
    },
    {
     "name": "stderr",
     "output_type": "stream",
     "text": [
      "current loss:1.1464284658432007: 100%|██████████| 100/100 [00:39<00:00,  2.53it/s]\n"
     ]
    },
    {
     "name": "stdout",
     "output_type": "stream",
     "text": [
      "5 0.5267999768257141\n"
     ]
    },
    {
     "name": "stderr",
     "output_type": "stream",
     "text": [
      "current loss:1.1112945079803467: 100%|██████████| 100/100 [00:40<00:00,  2.49it/s]\n"
     ]
    },
    {
     "name": "stdout",
     "output_type": "stream",
     "text": [
      "6 0.542199969291687\n"
     ]
    },
    {
     "name": "stderr",
     "output_type": "stream",
     "text": [
      "current loss:1.080615758895874: 100%|██████████| 100/100 [00:39<00:00,  2.54it/s]\n"
     ]
    },
    {
     "name": "stdout",
     "output_type": "stream",
     "text": [
      "7 0.5489999651908875\n"
     ]
    },
    {
     "name": "stderr",
     "output_type": "stream",
     "text": [
      "current loss:1.0525076389312744: 100%|██████████| 100/100 [00:38<00:00,  2.57it/s]\n"
     ]
    },
    {
     "name": "stdout",
     "output_type": "stream",
     "text": [
      "8 0.552299976348877\n"
     ]
    },
    {
     "name": "stderr",
     "output_type": "stream",
     "text": [
      "current loss:1.0224319696426392: 100%|██████████| 100/100 [00:39<00:00,  2.56it/s]\n"
     ]
    },
    {
     "name": "stdout",
     "output_type": "stream",
     "text": [
      "9 0.5519999861717224\n"
     ]
    },
    {
     "name": "stderr",
     "output_type": "stream",
     "text": [
      "current loss:0.9967510104179382: 100%|██████████| 100/100 [00:38<00:00,  2.57it/s]\n"
     ]
    },
    {
     "name": "stdout",
     "output_type": "stream",
     "text": [
      "10 0.5555999875068665\n"
     ]
    },
    {
     "name": "stderr",
     "output_type": "stream",
     "text": [
      "current loss:0.9716473817825317: 100%|██████████| 100/100 [00:39<00:00,  2.56it/s]\n"
     ]
    },
    {
     "name": "stdout",
     "output_type": "stream",
     "text": [
      "11 0.5601999759674072\n"
     ]
    },
    {
     "name": "stderr",
     "output_type": "stream",
     "text": [
      "current loss:0.9495741724967957: 100%|██████████| 100/100 [00:39<00:00,  2.56it/s]\n"
     ]
    },
    {
     "name": "stdout",
     "output_type": "stream",
     "text": [
      "12 0.5622999668121338\n"
     ]
    },
    {
     "name": "stderr",
     "output_type": "stream",
     "text": [
      "current loss:0.9305634498596191: 100%|██████████| 100/100 [00:39<00:00,  2.56it/s]\n"
     ]
    },
    {
     "name": "stdout",
     "output_type": "stream",
     "text": [
      "13 0.558899998664856\n"
     ]
    },
    {
     "name": "stderr",
     "output_type": "stream",
     "text": [
      "current loss:0.9143939018249512: 100%|██████████| 100/100 [00:39<00:00,  2.56it/s]\n"
     ]
    },
    {
     "name": "stdout",
     "output_type": "stream",
     "text": [
      "14 0.5552999973297119\n"
     ]
    },
    {
     "name": "stderr",
     "output_type": "stream",
     "text": [
      "current loss:0.9001299142837524: 100%|██████████| 100/100 [00:39<00:00,  2.56it/s]\n"
     ]
    },
    {
     "name": "stdout",
     "output_type": "stream",
     "text": [
      "15 0.5493000149726868\n"
     ]
    },
    {
     "name": "stderr",
     "output_type": "stream",
     "text": [
      "current loss:0.8927667737007141: 100%|██████████| 100/100 [00:39<00:00,  2.56it/s]\n"
     ]
    },
    {
     "name": "stdout",
     "output_type": "stream",
     "text": [
      "16 0.5412999987602234\n"
     ]
    },
    {
     "name": "stderr",
     "output_type": "stream",
     "text": [
      "current loss:0.8836075067520142: 100%|██████████| 100/100 [00:39<00:00,  2.56it/s]\n"
     ]
    },
    {
     "name": "stdout",
     "output_type": "stream",
     "text": [
      "17 0.5449999570846558\n"
     ]
    },
    {
     "name": "stderr",
     "output_type": "stream",
     "text": [
      "current loss:0.8748477101325989: 100%|██████████| 100/100 [00:39<00:00,  2.56it/s]\n"
     ]
    },
    {
     "name": "stdout",
     "output_type": "stream",
     "text": [
      "18 0.5509999990463257\n"
     ]
    },
    {
     "name": "stderr",
     "output_type": "stream",
     "text": [
      "current loss:0.8597767949104309: 100%|██████████| 100/100 [00:39<00:00,  2.56it/s]\n"
     ]
    },
    {
     "name": "stdout",
     "output_type": "stream",
     "text": [
      "19 0.5602999925613403\n"
     ]
    },
    {
     "name": "stderr",
     "output_type": "stream",
     "text": [
      "current loss:0.8405011296272278: 100%|██████████| 100/100 [00:39<00:00,  2.56it/s]\n"
     ]
    },
    {
     "name": "stdout",
     "output_type": "stream",
     "text": [
      "20 0.5608999729156494\n"
     ]
    },
    {
     "name": "stderr",
     "output_type": "stream",
     "text": [
      "current loss:0.8188273310661316: 100%|██████████| 100/100 [00:39<00:00,  2.56it/s]\n"
     ]
    },
    {
     "name": "stdout",
     "output_type": "stream",
     "text": [
      "21 0.5604999661445618\n"
     ]
    },
    {
     "name": "stderr",
     "output_type": "stream",
     "text": [
      "current loss:0.7987051606178284: 100%|██████████| 100/100 [00:39<00:00,  2.56it/s]\n"
     ]
    },
    {
     "name": "stdout",
     "output_type": "stream",
     "text": [
      "22 0.5600000023841858\n"
     ]
    },
    {
     "name": "stderr",
     "output_type": "stream",
     "text": [
      "current loss:0.7795010805130005: 100%|██████████| 100/100 [00:39<00:00,  2.56it/s]\n"
     ]
    },
    {
     "name": "stdout",
     "output_type": "stream",
     "text": [
      "23 0.5595999956130981\n"
     ]
    },
    {
     "name": "stderr",
     "output_type": "stream",
     "text": [
      "current loss:0.764906108379364: 100%|██████████| 100/100 [00:39<00:00,  2.56it/s]\n"
     ]
    },
    {
     "name": "stdout",
     "output_type": "stream",
     "text": [
      "24 0.5590000152587891\n"
     ]
    },
    {
     "name": "stderr",
     "output_type": "stream",
     "text": [
      "current loss:1.6179901361465454: 100%|██████████| 100/100 [00:39<00:00,  2.56it/s]\n"
     ]
    },
    {
     "name": "stdout",
     "output_type": "stream",
     "text": [
      "0 0.40469998121261597\n"
     ]
    },
    {
     "name": "stderr",
     "output_type": "stream",
     "text": [
      "current loss:1.4145387411117554: 100%|██████████| 100/100 [00:39<00:00,  2.56it/s]\n"
     ]
    },
    {
     "name": "stdout",
     "output_type": "stream",
     "text": [
      "1 0.4642999768257141\n"
     ]
    },
    {
     "name": "stderr",
     "output_type": "stream",
     "text": [
      "current loss:1.326636552810669: 100%|██████████| 100/100 [00:39<00:00,  2.56it/s]\n"
     ]
    },
    {
     "name": "stdout",
     "output_type": "stream",
     "text": [
      "2 0.49399998784065247\n"
     ]
    },
    {
     "name": "stderr",
     "output_type": "stream",
     "text": [
      "current loss:1.2556662559509277: 100%|██████████| 100/100 [00:39<00:00,  2.56it/s]\n"
     ]
    },
    {
     "name": "stdout",
     "output_type": "stream",
     "text": [
      "3 0.5127999782562256\n"
     ]
    },
    {
     "name": "stderr",
     "output_type": "stream",
     "text": [
      "current loss:1.1997668743133545: 100%|██████████| 100/100 [00:39<00:00,  2.56it/s]\n"
     ]
    },
    {
     "name": "stdout",
     "output_type": "stream",
     "text": [
      "4 0.5241000056266785\n"
     ]
    },
    {
     "name": "stderr",
     "output_type": "stream",
     "text": [
      "current loss:1.1563658714294434: 100%|██████████| 100/100 [00:39<00:00,  2.56it/s]\n"
     ]
    },
    {
     "name": "stdout",
     "output_type": "stream",
     "text": [
      "5 0.5270000100135803\n"
     ]
    },
    {
     "name": "stderr",
     "output_type": "stream",
     "text": [
      "current loss:1.1162092685699463: 100%|██████████| 100/100 [00:39<00:00,  2.56it/s]\n"
     ]
    },
    {
     "name": "stdout",
     "output_type": "stream",
     "text": [
      "6 0.5325999855995178\n"
     ]
    },
    {
     "name": "stderr",
     "output_type": "stream",
     "text": [
      "current loss:1.0816102027893066: 100%|██████████| 100/100 [00:39<00:00,  2.56it/s]\n"
     ]
    },
    {
     "name": "stdout",
     "output_type": "stream",
     "text": [
      "7 0.5343999862670898\n"
     ]
    },
    {
     "name": "stderr",
     "output_type": "stream",
     "text": [
      "current loss:1.0463429689407349: 100%|██████████| 100/100 [00:39<00:00,  2.56it/s]\n"
     ]
    },
    {
     "name": "stdout",
     "output_type": "stream",
     "text": [
      "8 0.5406000018119812\n"
     ]
    },
    {
     "name": "stderr",
     "output_type": "stream",
     "text": [
      "current loss:1.0174928903579712: 100%|██████████| 100/100 [00:39<00:00,  2.56it/s]\n"
     ]
    },
    {
     "name": "stdout",
     "output_type": "stream",
     "text": [
      "9 0.5442000031471252\n"
     ]
    },
    {
     "name": "stderr",
     "output_type": "stream",
     "text": [
      "current loss:0.9894669651985168: 100%|██████████| 100/100 [00:39<00:00,  2.55it/s]\n"
     ]
    },
    {
     "name": "stdout",
     "output_type": "stream",
     "text": [
      "10 0.5410999655723572\n"
     ]
    },
    {
     "name": "stderr",
     "output_type": "stream",
     "text": [
      "current loss:0.9640618562698364: 100%|██████████| 100/100 [00:40<00:00,  2.50it/s]\n"
     ]
    },
    {
     "name": "stdout",
     "output_type": "stream",
     "text": [
      "11 0.5457000136375427\n"
     ]
    },
    {
     "name": "stderr",
     "output_type": "stream",
     "text": [
      "current loss:0.9401659965515137: 100%|██████████| 100/100 [00:39<00:00,  2.50it/s]\n"
     ]
    },
    {
     "name": "stdout",
     "output_type": "stream",
     "text": [
      "12 0.5475999712944031\n"
     ]
    },
    {
     "name": "stderr",
     "output_type": "stream",
     "text": [
      "current loss:0.9194542169570923: 100%|██████████| 100/100 [00:39<00:00,  2.56it/s]\n"
     ]
    },
    {
     "name": "stdout",
     "output_type": "stream",
     "text": [
      "13 0.5491999983787537\n"
     ]
    },
    {
     "name": "stderr",
     "output_type": "stream",
     "text": [
      "current loss:0.9006625413894653: 100%|██████████| 100/100 [00:39<00:00,  2.55it/s]\n"
     ]
    },
    {
     "name": "stdout",
     "output_type": "stream",
     "text": [
      "14 0.5497999787330627\n"
     ]
    },
    {
     "name": "stderr",
     "output_type": "stream",
     "text": [
      "current loss:0.8844281435012817: 100%|██████████| 100/100 [00:39<00:00,  2.56it/s]\n"
     ]
    },
    {
     "name": "stdout",
     "output_type": "stream",
     "text": [
      "15 0.5480999946594238\n"
     ]
    },
    {
     "name": "stderr",
     "output_type": "stream",
     "text": [
      "current loss:0.8714630007743835: 100%|██████████| 100/100 [00:39<00:00,  2.56it/s]\n"
     ]
    },
    {
     "name": "stdout",
     "output_type": "stream",
     "text": [
      "16 0.536300003528595\n"
     ]
    },
    {
     "name": "stderr",
     "output_type": "stream",
     "text": [
      "current loss:0.853165328502655: 100%|██████████| 100/100 [00:39<00:00,  2.56it/s]\n"
     ]
    },
    {
     "name": "stdout",
     "output_type": "stream",
     "text": [
      "17 0.5349999666213989\n"
     ]
    },
    {
     "name": "stderr",
     "output_type": "stream",
     "text": [
      "current loss:0.8346921801567078: 100%|██████████| 100/100 [00:39<00:00,  2.56it/s]\n"
     ]
    },
    {
     "name": "stdout",
     "output_type": "stream",
     "text": [
      "18 0.5354999899864197\n"
     ]
    },
    {
     "name": "stderr",
     "output_type": "stream",
     "text": [
      "current loss:0.8196638226509094: 100%|██████████| 100/100 [00:39<00:00,  2.56it/s]\n"
     ]
    },
    {
     "name": "stdout",
     "output_type": "stream",
     "text": [
      "19 0.5313999652862549\n"
     ]
    },
    {
     "name": "stderr",
     "output_type": "stream",
     "text": [
      "current loss:0.8020867109298706: 100%|██████████| 100/100 [00:39<00:00,  2.56it/s]\n"
     ]
    },
    {
     "name": "stdout",
     "output_type": "stream",
     "text": [
      "20 0.5285999774932861\n"
     ]
    },
    {
     "name": "stderr",
     "output_type": "stream",
     "text": [
      "current loss:0.7884101867675781: 100%|██████████| 100/100 [00:39<00:00,  2.56it/s]\n"
     ]
    },
    {
     "name": "stdout",
     "output_type": "stream",
     "text": [
      "21 0.5277999639511108\n"
     ]
    },
    {
     "name": "stderr",
     "output_type": "stream",
     "text": [
      "current loss:0.7799166440963745: 100%|██████████| 100/100 [00:39<00:00,  2.56it/s]\n"
     ]
    },
    {
     "name": "stdout",
     "output_type": "stream",
     "text": [
      "22 0.527899980545044\n"
     ]
    },
    {
     "name": "stderr",
     "output_type": "stream",
     "text": [
      "current loss:0.771277666091919: 100%|██████████| 100/100 [00:39<00:00,  2.55it/s]\n"
     ]
    },
    {
     "name": "stdout",
     "output_type": "stream",
     "text": [
      "23 0.5274999737739563\n"
     ]
    },
    {
     "name": "stderr",
     "output_type": "stream",
     "text": [
      "current loss:0.7641733884811401: 100%|██████████| 100/100 [00:39<00:00,  2.56it/s]\n"
     ]
    },
    {
     "name": "stdout",
     "output_type": "stream",
     "text": [
      "24 0.5242999792098999\n"
     ]
    },
    {
     "name": "stderr",
     "output_type": "stream",
     "text": [
      "current loss:1.5808846950531006: 100%|██████████| 100/100 [00:39<00:00,  2.56it/s]\n"
     ]
    },
    {
     "name": "stdout",
     "output_type": "stream",
     "text": [
      "0 0.4188999831676483\n"
     ]
    },
    {
     "name": "stderr",
     "output_type": "stream",
     "text": [
      "current loss:1.377108097076416: 100%|██████████| 100/100 [00:39<00:00,  2.56it/s]\n"
     ]
    },
    {
     "name": "stdout",
     "output_type": "stream",
     "text": [
      "1 0.4722999930381775\n"
     ]
    },
    {
     "name": "stderr",
     "output_type": "stream",
     "text": [
      "current loss:1.277022361755371: 100%|██████████| 100/100 [00:39<00:00,  2.56it/s]\n"
     ]
    },
    {
     "name": "stdout",
     "output_type": "stream",
     "text": [
      "2 0.502299964427948\n"
     ]
    },
    {
     "name": "stderr",
     "output_type": "stream",
     "text": [
      "current loss:1.2065351009368896: 100%|██████████| 100/100 [00:39<00:00,  2.56it/s]\n"
     ]
    },
    {
     "name": "stdout",
     "output_type": "stream",
     "text": [
      "3 0.5270999670028687\n"
     ]
    },
    {
     "name": "stderr",
     "output_type": "stream",
     "text": [
      "current loss:1.1521223783493042: 100%|██████████| 100/100 [00:39<00:00,  2.56it/s]\n"
     ]
    },
    {
     "name": "stdout",
     "output_type": "stream",
     "text": [
      "4 0.5421000123023987\n"
     ]
    },
    {
     "name": "stderr",
     "output_type": "stream",
     "text": [
      "current loss:1.1131610870361328: 100%|██████████| 100/100 [00:39<00:00,  2.56it/s]\n"
     ]
    },
    {
     "name": "stdout",
     "output_type": "stream",
     "text": [
      "5 0.5532000064849854\n"
     ]
    },
    {
     "name": "stderr",
     "output_type": "stream",
     "text": [
      "current loss:1.0781503915786743: 100%|██████████| 100/100 [00:39<00:00,  2.56it/s]\n"
     ]
    },
    {
     "name": "stdout",
     "output_type": "stream",
     "text": [
      "6 0.5552999973297119\n"
     ]
    },
    {
     "name": "stderr",
     "output_type": "stream",
     "text": [
      "current loss:1.0477550029754639: 100%|██████████| 100/100 [00:39<00:00,  2.55it/s]\n"
     ]
    },
    {
     "name": "stdout",
     "output_type": "stream",
     "text": [
      "7 0.558899998664856\n"
     ]
    },
    {
     "name": "stderr",
     "output_type": "stream",
     "text": [
      "current loss:1.0204334259033203: 100%|██████████| 100/100 [00:39<00:00,  2.55it/s]\n"
     ]
    },
    {
     "name": "stdout",
     "output_type": "stream",
     "text": [
      "8 0.5600999593734741\n"
     ]
    },
    {
     "name": "stderr",
     "output_type": "stream",
     "text": [
      "current loss:0.9943445920944214: 100%|██████████| 100/100 [00:39<00:00,  2.55it/s]\n"
     ]
    },
    {
     "name": "stdout",
     "output_type": "stream",
     "text": [
      "9 0.5607999563217163\n"
     ]
    },
    {
     "name": "stderr",
     "output_type": "stream",
     "text": [
      "current loss:0.9698514938354492: 100%|██████████| 100/100 [00:39<00:00,  2.56it/s]\n"
     ]
    },
    {
     "name": "stdout",
     "output_type": "stream",
     "text": [
      "10 0.5625\n"
     ]
    },
    {
     "name": "stderr",
     "output_type": "stream",
     "text": [
      "current loss:0.9488458633422852: 100%|██████████| 100/100 [00:39<00:00,  2.56it/s]\n"
     ]
    },
    {
     "name": "stdout",
     "output_type": "stream",
     "text": [
      "11 0.564300000667572\n"
     ]
    },
    {
     "name": "stderr",
     "output_type": "stream",
     "text": [
      "current loss:0.9262508153915405: 100%|██████████| 100/100 [00:39<00:00,  2.56it/s]\n"
     ]
    },
    {
     "name": "stdout",
     "output_type": "stream",
     "text": [
      "12 0.5667999982833862\n"
     ]
    },
    {
     "name": "stderr",
     "output_type": "stream",
     "text": [
      "current loss:0.8973763585090637: 100%|██████████| 100/100 [00:39<00:00,  2.56it/s]\n"
     ]
    },
    {
     "name": "stdout",
     "output_type": "stream",
     "text": [
      "13 0.5697999596595764\n"
     ]
    },
    {
     "name": "stderr",
     "output_type": "stream",
     "text": [
      "current loss:0.8739396929740906: 100%|██████████| 100/100 [00:39<00:00,  2.56it/s]\n"
     ]
    },
    {
     "name": "stdout",
     "output_type": "stream",
     "text": [
      "14 0.573199987411499\n"
     ]
    },
    {
     "name": "stderr",
     "output_type": "stream",
     "text": [
      "current loss:0.8546351194381714: 100%|██████████| 100/100 [00:39<00:00,  2.56it/s]\n"
     ]
    },
    {
     "name": "stdout",
     "output_type": "stream",
     "text": [
      "15 0.5733999609947205\n"
     ]
    },
    {
     "name": "stderr",
     "output_type": "stream",
     "text": [
      "current loss:0.8347794413566589: 100%|██████████| 100/100 [00:39<00:00,  2.56it/s]\n"
     ]
    },
    {
     "name": "stdout",
     "output_type": "stream",
     "text": [
      "16 0.5748999714851379\n"
     ]
    },
    {
     "name": "stderr",
     "output_type": "stream",
     "text": [
      "current loss:0.8182509541511536: 100%|██████████| 100/100 [00:39<00:00,  2.56it/s]\n"
     ]
    },
    {
     "name": "stdout",
     "output_type": "stream",
     "text": [
      "17 0.5744999647140503\n"
     ]
    },
    {
     "name": "stderr",
     "output_type": "stream",
     "text": [
      "current loss:0.8011980056762695: 100%|██████████| 100/100 [00:39<00:00,  2.56it/s]\n"
     ]
    },
    {
     "name": "stdout",
     "output_type": "stream",
     "text": [
      "18 0.5740000009536743\n"
     ]
    },
    {
     "name": "stderr",
     "output_type": "stream",
     "text": [
      "current loss:0.7865619659423828: 100%|██████████| 100/100 [00:39<00:00,  2.56it/s]\n"
     ]
    },
    {
     "name": "stdout",
     "output_type": "stream",
     "text": [
      "19 0.5741999745368958\n"
     ]
    },
    {
     "name": "stderr",
     "output_type": "stream",
     "text": [
      "current loss:0.7743455171585083: 100%|██████████| 100/100 [00:39<00:00,  2.56it/s]\n"
     ]
    },
    {
     "name": "stdout",
     "output_type": "stream",
     "text": [
      "20 0.573199987411499\n"
     ]
    },
    {
     "name": "stderr",
     "output_type": "stream",
     "text": [
      "current loss:0.7636312246322632: 100%|██████████| 100/100 [00:39<00:00,  2.51it/s]\n"
     ]
    },
    {
     "name": "stdout",
     "output_type": "stream",
     "text": [
      "21 0.5719999670982361\n"
     ]
    },
    {
     "name": "stderr",
     "output_type": "stream",
     "text": [
      "current loss:0.748237133026123: 100%|██████████| 100/100 [00:39<00:00,  2.55it/s]\n"
     ]
    },
    {
     "name": "stdout",
     "output_type": "stream",
     "text": [
      "22 0.5716999769210815\n"
     ]
    },
    {
     "name": "stderr",
     "output_type": "stream",
     "text": [
      "current loss:0.7366200685501099: 100%|██████████| 100/100 [00:38<00:00,  2.57it/s]\n"
     ]
    },
    {
     "name": "stdout",
     "output_type": "stream",
     "text": [
      "23 0.5685999989509583\n"
     ]
    },
    {
     "name": "stderr",
     "output_type": "stream",
     "text": [
      "current loss:0.73456871509552: 100%|██████████| 100/100 [00:38<00:00,  2.57it/s] \n"
     ]
    },
    {
     "name": "stdout",
     "output_type": "stream",
     "text": [
      "24 0.5679999589920044\n"
     ]
    },
    {
     "name": "stderr",
     "output_type": "stream",
     "text": [
      "current loss:1.5813411474227905: 100%|██████████| 100/100 [00:38<00:00,  2.57it/s]\n"
     ]
    },
    {
     "name": "stdout",
     "output_type": "stream",
     "text": [
      "0 0.40959998965263367\n"
     ]
    },
    {
     "name": "stderr",
     "output_type": "stream",
     "text": [
      "current loss:1.4132895469665527: 100%|██████████| 100/100 [00:38<00:00,  2.57it/s]\n"
     ]
    },
    {
     "name": "stdout",
     "output_type": "stream",
     "text": [
      "1 0.46149998903274536\n"
     ]
    },
    {
     "name": "stderr",
     "output_type": "stream",
     "text": [
      "current loss:1.2992483377456665: 100%|██████████| 100/100 [00:38<00:00,  2.57it/s]\n"
     ]
    },
    {
     "name": "stdout",
     "output_type": "stream",
     "text": [
      "2 0.5102999806404114\n"
     ]
    },
    {
     "name": "stderr",
     "output_type": "stream",
     "text": [
      "current loss:1.2157055139541626: 100%|██████████| 100/100 [00:38<00:00,  2.57it/s]\n"
     ]
    },
    {
     "name": "stdout",
     "output_type": "stream",
     "text": [
      "3 0.5270000100135803\n"
     ]
    },
    {
     "name": "stderr",
     "output_type": "stream",
     "text": [
      "current loss:1.1472643613815308: 100%|██████████| 100/100 [00:38<00:00,  2.57it/s]\n"
     ]
    },
    {
     "name": "stdout",
     "output_type": "stream",
     "text": [
      "4 0.5354999899864197\n"
     ]
    },
    {
     "name": "stderr",
     "output_type": "stream",
     "text": [
      "current loss:1.0965802669525146: 100%|██████████| 100/100 [00:38<00:00,  2.57it/s]\n"
     ]
    },
    {
     "name": "stdout",
     "output_type": "stream",
     "text": [
      "5 0.5388999581336975\n"
     ]
    },
    {
     "name": "stderr",
     "output_type": "stream",
     "text": [
      "current loss:1.052732229232788: 100%|██████████| 100/100 [00:38<00:00,  2.57it/s]\n"
     ]
    },
    {
     "name": "stdout",
     "output_type": "stream",
     "text": [
      "6 0.5485999584197998\n"
     ]
    },
    {
     "name": "stderr",
     "output_type": "stream",
     "text": [
      "current loss:1.0155683755874634: 100%|██████████| 100/100 [00:38<00:00,  2.57it/s]\n"
     ]
    },
    {
     "name": "stdout",
     "output_type": "stream",
     "text": [
      "7 0.5496000051498413\n"
     ]
    },
    {
     "name": "stderr",
     "output_type": "stream",
     "text": [
      "current loss:0.9854682087898254: 100%|██████████| 100/100 [00:38<00:00,  2.57it/s]\n"
     ]
    },
    {
     "name": "stdout",
     "output_type": "stream",
     "text": [
      "8 0.5550999641418457\n"
     ]
    },
    {
     "name": "stderr",
     "output_type": "stream",
     "text": [
      "current loss:0.9571061134338379: 100%|██████████| 100/100 [00:38<00:00,  2.57it/s]\n"
     ]
    },
    {
     "name": "stdout",
     "output_type": "stream",
     "text": [
      "9 0.559499979019165\n"
     ]
    },
    {
     "name": "stderr",
     "output_type": "stream",
     "text": [
      "current loss:0.9335099458694458: 100%|██████████| 100/100 [00:38<00:00,  2.57it/s]\n"
     ]
    },
    {
     "name": "stdout",
     "output_type": "stream",
     "text": [
      "10 0.5645999908447266\n"
     ]
    },
    {
     "name": "stderr",
     "output_type": "stream",
     "text": [
      "current loss:0.9146744012832642: 100%|██████████| 100/100 [00:38<00:00,  2.57it/s]\n"
     ]
    },
    {
     "name": "stdout",
     "output_type": "stream",
     "text": [
      "11 0.5670999884605408\n"
     ]
    },
    {
     "name": "stderr",
     "output_type": "stream",
     "text": [
      "current loss:0.8948399424552917: 100%|██████████| 100/100 [00:38<00:00,  2.57it/s]\n"
     ]
    },
    {
     "name": "stdout",
     "output_type": "stream",
     "text": [
      "12 0.5701000094413757\n"
     ]
    },
    {
     "name": "stderr",
     "output_type": "stream",
     "text": [
      "current loss:0.8727030754089355: 100%|██████████| 100/100 [00:38<00:00,  2.57it/s]\n"
     ]
    },
    {
     "name": "stdout",
     "output_type": "stream",
     "text": [
      "13 0.5719000101089478\n"
     ]
    },
    {
     "name": "stderr",
     "output_type": "stream",
     "text": [
      "current loss:0.8562560081481934: 100%|██████████| 100/100 [00:38<00:00,  2.57it/s]\n"
     ]
    },
    {
     "name": "stdout",
     "output_type": "stream",
     "text": [
      "14 0.5730999708175659\n"
     ]
    },
    {
     "name": "stderr",
     "output_type": "stream",
     "text": [
      "current loss:0.8384227752685547: 100%|██████████| 100/100 [00:38<00:00,  2.57it/s]\n"
     ]
    },
    {
     "name": "stdout",
     "output_type": "stream",
     "text": [
      "15 0.5708000063896179\n"
     ]
    },
    {
     "name": "stderr",
     "output_type": "stream",
     "text": [
      "current loss:0.8220445513725281: 100%|██████████| 100/100 [00:38<00:00,  2.56it/s]\n"
     ]
    },
    {
     "name": "stdout",
     "output_type": "stream",
     "text": [
      "16 0.5730999708175659\n"
     ]
    },
    {
     "name": "stderr",
     "output_type": "stream",
     "text": [
      "current loss:0.8048968315124512: 100%|██████████| 100/100 [00:38<00:00,  2.56it/s]\n"
     ]
    },
    {
     "name": "stdout",
     "output_type": "stream",
     "text": [
      "17 0.5733000040054321\n"
     ]
    },
    {
     "name": "stderr",
     "output_type": "stream",
     "text": [
      "current loss:0.7893391251564026: 100%|██████████| 100/100 [00:38<00:00,  2.57it/s]\n"
     ]
    },
    {
     "name": "stdout",
     "output_type": "stream",
     "text": [
      "18 0.5704999566078186\n"
     ]
    },
    {
     "name": "stderr",
     "output_type": "stream",
     "text": [
      "current loss:0.7724820971488953: 100%|██████████| 100/100 [00:38<00:00,  2.57it/s]\n"
     ]
    },
    {
     "name": "stdout",
     "output_type": "stream",
     "text": [
      "19 0.5681999921798706\n"
     ]
    },
    {
     "name": "stderr",
     "output_type": "stream",
     "text": [
      "current loss:0.7563530206680298: 100%|██████████| 100/100 [00:38<00:00,  2.57it/s]\n"
     ]
    },
    {
     "name": "stdout",
     "output_type": "stream",
     "text": [
      "20 0.5669000148773193\n"
     ]
    },
    {
     "name": "stderr",
     "output_type": "stream",
     "text": [
      "current loss:0.7431328892707825: 100%|██████████| 100/100 [00:38<00:00,  2.57it/s]\n"
     ]
    },
    {
     "name": "stdout",
     "output_type": "stream",
     "text": [
      "21 0.5709999799728394\n"
     ]
    },
    {
     "name": "stderr",
     "output_type": "stream",
     "text": [
      "current loss:0.728823184967041: 100%|██████████| 100/100 [00:38<00:00,  2.57it/s]\n"
     ]
    },
    {
     "name": "stdout",
     "output_type": "stream",
     "text": [
      "22 0.5686999559402466\n"
     ]
    },
    {
     "name": "stderr",
     "output_type": "stream",
     "text": [
      "current loss:0.7157039642333984: 100%|██████████| 100/100 [00:38<00:00,  2.57it/s]\n"
     ]
    },
    {
     "name": "stdout",
     "output_type": "stream",
     "text": [
      "23 0.5676000118255615\n"
     ]
    },
    {
     "name": "stderr",
     "output_type": "stream",
     "text": [
      "current loss:0.6971099376678467: 100%|██████████| 100/100 [00:38<00:00,  2.57it/s]\n"
     ]
    },
    {
     "name": "stdout",
     "output_type": "stream",
     "text": [
      "24 0.568399965763092\n"
     ]
    },
    {
     "name": "stderr",
     "output_type": "stream",
     "text": [
      "current loss:1.4762030839920044: 100%|██████████| 100/100 [00:38<00:00,  2.57it/s]\n"
     ]
    },
    {
     "name": "stdout",
     "output_type": "stream",
     "text": [
      "0 0.43149998784065247\n"
     ]
    },
    {
     "name": "stderr",
     "output_type": "stream",
     "text": [
      "current loss:1.277079701423645: 100%|██████████| 100/100 [00:38<00:00,  2.56it/s]\n"
     ]
    },
    {
     "name": "stdout",
     "output_type": "stream",
     "text": [
      "1 0.49390000104904175\n"
     ]
    },
    {
     "name": "stderr",
     "output_type": "stream",
     "text": [
      "current loss:1.1701288223266602: 100%|██████████| 100/100 [00:38<00:00,  2.57it/s]\n"
     ]
    },
    {
     "name": "stdout",
     "output_type": "stream",
     "text": [
      "2 0.5108999609947205\n"
     ]
    },
    {
     "name": "stderr",
     "output_type": "stream",
     "text": [
      "current loss:1.090516448020935: 100%|██████████| 100/100 [00:38<00:00,  2.57it/s]\n"
     ]
    },
    {
     "name": "stdout",
     "output_type": "stream",
     "text": [
      "3 0.5245000123977661\n"
     ]
    },
    {
     "name": "stderr",
     "output_type": "stream",
     "text": [
      "current loss:1.0163077116012573: 100%|██████████| 100/100 [00:38<00:00,  2.57it/s]\n"
     ]
    },
    {
     "name": "stdout",
     "output_type": "stream",
     "text": [
      "4 0.536899983882904\n"
     ]
    },
    {
     "name": "stderr",
     "output_type": "stream",
     "text": [
      "current loss:0.9523448944091797: 100%|██████████| 100/100 [00:38<00:00,  2.57it/s]\n"
     ]
    },
    {
     "name": "stdout",
     "output_type": "stream",
     "text": [
      "5 0.5443999767303467\n"
     ]
    },
    {
     "name": "stderr",
     "output_type": "stream",
     "text": [
      "current loss:0.8874685168266296: 100%|██████████| 100/100 [00:38<00:00,  2.57it/s]\n"
     ]
    },
    {
     "name": "stdout",
     "output_type": "stream",
     "text": [
      "6 0.5555999875068665\n"
     ]
    },
    {
     "name": "stderr",
     "output_type": "stream",
     "text": [
      "current loss:0.8294333219528198: 100%|██████████| 100/100 [00:38<00:00,  2.57it/s]\n"
     ]
    },
    {
     "name": "stdout",
     "output_type": "stream",
     "text": [
      "7 0.5575000047683716\n"
     ]
    },
    {
     "name": "stderr",
     "output_type": "stream",
     "text": [
      "current loss:0.7798560857772827: 100%|██████████| 100/100 [00:38<00:00,  2.57it/s]\n"
     ]
    },
    {
     "name": "stdout",
     "output_type": "stream",
     "text": [
      "8 0.5667999982833862\n"
     ]
    },
    {
     "name": "stderr",
     "output_type": "stream",
     "text": [
      "current loss:0.7291691303253174: 100%|██████████| 100/100 [00:38<00:00,  2.57it/s]\n"
     ]
    },
    {
     "name": "stdout",
     "output_type": "stream",
     "text": [
      "9 0.564300000667572\n"
     ]
    },
    {
     "name": "stderr",
     "output_type": "stream",
     "text": [
      "current loss:0.6915825605392456: 100%|██████████| 100/100 [00:38<00:00,  2.56it/s]\n"
     ]
    },
    {
     "name": "stdout",
     "output_type": "stream",
     "text": [
      "10 0.5605999827384949\n"
     ]
    },
    {
     "name": "stderr",
     "output_type": "stream",
     "text": [
      "current loss:0.6469503045082092: 100%|██████████| 100/100 [00:38<00:00,  2.56it/s]\n"
     ]
    },
    {
     "name": "stdout",
     "output_type": "stream",
     "text": [
      "11 0.5565999746322632\n"
     ]
    },
    {
     "name": "stderr",
     "output_type": "stream",
     "text": [
      "current loss:0.6013771295547485: 100%|██████████| 100/100 [00:38<00:00,  2.57it/s]\n"
     ]
    },
    {
     "name": "stdout",
     "output_type": "stream",
     "text": [
      "12 0.555400013923645\n"
     ]
    },
    {
     "name": "stderr",
     "output_type": "stream",
     "text": [
      "current loss:0.567071259021759: 100%|██████████| 100/100 [00:38<00:00,  2.57it/s] \n"
     ]
    },
    {
     "name": "stdout",
     "output_type": "stream",
     "text": [
      "13 0.552899956703186\n"
     ]
    },
    {
     "name": "stderr",
     "output_type": "stream",
     "text": [
      "current loss:0.527743935585022: 100%|██████████| 100/100 [00:38<00:00,  2.57it/s] \n"
     ]
    },
    {
     "name": "stdout",
     "output_type": "stream",
     "text": [
      "14 0.5530999898910522\n"
     ]
    },
    {
     "name": "stderr",
     "output_type": "stream",
     "text": [
      "current loss:0.48833227157592773: 100%|██████████| 100/100 [00:38<00:00,  2.57it/s]\n"
     ]
    },
    {
     "name": "stdout",
     "output_type": "stream",
     "text": [
      "15 0.555400013923645\n"
     ]
    },
    {
     "name": "stderr",
     "output_type": "stream",
     "text": [
      "current loss:0.4502650201320648: 100%|██████████| 100/100 [00:39<00:00,  2.56it/s]\n"
     ]
    },
    {
     "name": "stdout",
     "output_type": "stream",
     "text": [
      "16 0.5543999671936035\n"
     ]
    },
    {
     "name": "stderr",
     "output_type": "stream",
     "text": [
      "current loss:0.4162978529930115: 100%|██████████| 100/100 [00:38<00:00,  2.57it/s]\n"
     ]
    },
    {
     "name": "stdout",
     "output_type": "stream",
     "text": [
      "17 0.5546000003814697\n"
     ]
    },
    {
     "name": "stderr",
     "output_type": "stream",
     "text": [
      "current loss:0.3794547915458679: 100%|██████████| 100/100 [00:38<00:00,  2.57it/s]\n"
     ]
    },
    {
     "name": "stdout",
     "output_type": "stream",
     "text": [
      "18 0.553600013256073\n"
     ]
    },
    {
     "name": "stderr",
     "output_type": "stream",
     "text": [
      "current loss:0.34850478172302246: 100%|██████████| 100/100 [00:38<00:00,  2.57it/s]\n"
     ]
    },
    {
     "name": "stdout",
     "output_type": "stream",
     "text": [
      "19 0.5526999831199646\n"
     ]
    },
    {
     "name": "stderr",
     "output_type": "stream",
     "text": [
      "current loss:0.3183157742023468: 100%|██████████| 100/100 [00:38<00:00,  2.57it/s]\n"
     ]
    },
    {
     "name": "stdout",
     "output_type": "stream",
     "text": [
      "20 0.5555999875068665\n"
     ]
    },
    {
     "name": "stderr",
     "output_type": "stream",
     "text": [
      "current loss:0.28446856141090393: 100%|██████████| 100/100 [00:38<00:00,  2.57it/s]\n"
     ]
    },
    {
     "name": "stdout",
     "output_type": "stream",
     "text": [
      "21 0.5562999844551086\n"
     ]
    },
    {
     "name": "stderr",
     "output_type": "stream",
     "text": [
      "current loss:0.2569609582424164: 100%|██████████| 100/100 [00:38<00:00,  2.57it/s]\n"
     ]
    },
    {
     "name": "stdout",
     "output_type": "stream",
     "text": [
      "22 0.5566999912261963\n"
     ]
    },
    {
     "name": "stderr",
     "output_type": "stream",
     "text": [
      "current loss:0.23066282272338867: 100%|██████████| 100/100 [00:38<00:00,  2.57it/s]\n"
     ]
    },
    {
     "name": "stdout",
     "output_type": "stream",
     "text": [
      "23 0.5525000095367432\n"
     ]
    },
    {
     "name": "stderr",
     "output_type": "stream",
     "text": [
      "current loss:0.20434041321277618: 100%|██████████| 100/100 [00:38<00:00,  2.57it/s]\n"
     ]
    },
    {
     "name": "stdout",
     "output_type": "stream",
     "text": [
      "24 0.5511999726295471\n"
     ]
    },
    {
     "name": "stderr",
     "output_type": "stream",
     "text": [
      "current loss:0.6323345899581909: 100%|██████████| 100/100 [00:38<00:00,  2.57it/s]\n"
     ]
    },
    {
     "name": "stdout",
     "output_type": "stream",
     "text": [
      "0 0.370199978351593\n"
     ]
    },
    {
     "name": "stderr",
     "output_type": "stream",
     "text": [
      "current loss:0.2092915028333664: 100%|██████████| 100/100 [00:38<00:00,  2.57it/s]\n"
     ]
    },
    {
     "name": "stdout",
     "output_type": "stream",
     "text": [
      "1 0.4490000009536743\n"
     ]
    },
    {
     "name": "stderr",
     "output_type": "stream",
     "text": [
      "current loss:-0.10736788809299469: 100%|██████████| 100/100 [00:38<00:00,  2.57it/s] \n"
     ]
    },
    {
     "name": "stdout",
     "output_type": "stream",
     "text": [
      "2 0.4764999747276306\n"
     ]
    },
    {
     "name": "stderr",
     "output_type": "stream",
     "text": [
      "current loss:-0.3905314803123474: 100%|██████████| 100/100 [00:38<00:00,  2.57it/s]\n"
     ]
    },
    {
     "name": "stdout",
     "output_type": "stream",
     "text": [
      "3 0.5067999958992004\n"
     ]
    },
    {
     "name": "stderr",
     "output_type": "stream",
     "text": [
      "current loss:-0.6577202677726746: 100%|██████████| 100/100 [00:38<00:00,  2.57it/s]\n"
     ]
    },
    {
     "name": "stdout",
     "output_type": "stream",
     "text": [
      "4 0.5289999842643738\n"
     ]
    },
    {
     "name": "stderr",
     "output_type": "stream",
     "text": [
      "current loss:-0.923082172870636: 100%|██████████| 100/100 [00:38<00:00,  2.57it/s]\n"
     ]
    },
    {
     "name": "stdout",
     "output_type": "stream",
     "text": [
      "5 0.5432999730110168\n"
     ]
    },
    {
     "name": "stderr",
     "output_type": "stream",
     "text": [
      "current loss:-1.183180570602417: 100%|██████████| 100/100 [00:38<00:00,  2.57it/s]\n"
     ]
    },
    {
     "name": "stdout",
     "output_type": "stream",
     "text": [
      "6 0.5503999590873718\n"
     ]
    },
    {
     "name": "stderr",
     "output_type": "stream",
     "text": [
      "current loss:-1.440376877784729: 100%|██████████| 100/100 [00:38<00:00,  2.57it/s]\n"
     ]
    },
    {
     "name": "stdout",
     "output_type": "stream",
     "text": [
      "7 0.5523999929428101\n"
     ]
    },
    {
     "name": "stderr",
     "output_type": "stream",
     "text": [
      "current loss:-1.6946817636489868: 100%|██████████| 100/100 [00:38<00:00,  2.57it/s]\n"
     ]
    },
    {
     "name": "stdout",
     "output_type": "stream",
     "text": [
      "8 0.5573999881744385\n"
     ]
    },
    {
     "name": "stderr",
     "output_type": "stream",
     "text": [
      "current loss:-1.9490482807159424: 100%|██████████| 100/100 [00:38<00:00,  2.57it/s]\n"
     ]
    },
    {
     "name": "stdout",
     "output_type": "stream",
     "text": [
      "9 0.5572999715805054\n"
     ]
    },
    {
     "name": "stderr",
     "output_type": "stream",
     "text": [
      "current loss:-2.197453022003174: 100%|██████████| 100/100 [00:38<00:00,  2.57it/s]\n"
     ]
    },
    {
     "name": "stdout",
     "output_type": "stream",
     "text": [
      "10 0.5637999773025513\n"
     ]
    },
    {
     "name": "stderr",
     "output_type": "stream",
     "text": [
      "current loss:-2.4499034881591797: 100%|██████████| 100/100 [00:38<00:00,  2.57it/s]\n"
     ]
    },
    {
     "name": "stdout",
     "output_type": "stream",
     "text": [
      "11 0.5640000104904175\n"
     ]
    },
    {
     "name": "stderr",
     "output_type": "stream",
     "text": [
      "current loss:-2.70688533782959: 100%|██████████| 100/100 [00:38<00:00,  2.57it/s] \n"
     ]
    },
    {
     "name": "stdout",
     "output_type": "stream",
     "text": [
      "12 0.5647000074386597\n"
     ]
    },
    {
     "name": "stderr",
     "output_type": "stream",
     "text": [
      "current loss:-2.9567573070526123: 100%|██████████| 100/100 [00:39<00:00,  2.56it/s]\n"
     ]
    },
    {
     "name": "stdout",
     "output_type": "stream",
     "text": [
      "13 0.5591999888420105\n"
     ]
    },
    {
     "name": "stderr",
     "output_type": "stream",
     "text": [
      "current loss:-3.216326951980591: 100%|██████████| 100/100 [00:38<00:00,  2.57it/s]\n"
     ]
    },
    {
     "name": "stdout",
     "output_type": "stream",
     "text": [
      "14 0.5580999851226807\n"
     ]
    },
    {
     "name": "stderr",
     "output_type": "stream",
     "text": [
      "current loss:-3.478550672531128: 100%|██████████| 100/100 [00:38<00:00,  2.57it/s]\n"
     ]
    },
    {
     "name": "stdout",
     "output_type": "stream",
     "text": [
      "15 0.5613999962806702\n"
     ]
    },
    {
     "name": "stderr",
     "output_type": "stream",
     "text": [
      "current loss:-3.7362587451934814: 100%|██████████| 100/100 [00:38<00:00,  2.57it/s]\n"
     ]
    },
    {
     "name": "stdout",
     "output_type": "stream",
     "text": [
      "16 0.5627999901771545\n"
     ]
    },
    {
     "name": "stderr",
     "output_type": "stream",
     "text": [
      "current loss:-3.9890294075012207: 100%|██████████| 100/100 [00:39<00:00,  2.52it/s]\n"
     ]
    },
    {
     "name": "stdout",
     "output_type": "stream",
     "text": [
      "17 0.5586999654769897\n"
     ]
    },
    {
     "name": "stderr",
     "output_type": "stream",
     "text": [
      "current loss:-4.255468845367432: 100%|██████████| 100/100 [00:39<00:00,  2.55it/s]\n"
     ]
    },
    {
     "name": "stdout",
     "output_type": "stream",
     "text": [
      "18 0.5613999962806702\n"
     ]
    },
    {
     "name": "stderr",
     "output_type": "stream",
     "text": [
      "current loss:-4.513388156890869: 100%|██████████| 100/100 [00:39<00:00,  2.54it/s]\n"
     ]
    },
    {
     "name": "stdout",
     "output_type": "stream",
     "text": [
      "19 0.5623999834060669\n"
     ]
    },
    {
     "name": "stderr",
     "output_type": "stream",
     "text": [
      "current loss:-4.777425289154053: 100%|██████████| 100/100 [00:39<00:00,  2.54it/s]\n"
     ]
    },
    {
     "name": "stdout",
     "output_type": "stream",
     "text": [
      "20 0.5625\n"
     ]
    },
    {
     "name": "stderr",
     "output_type": "stream",
     "text": [
      "current loss:-5.037538051605225: 100%|██████████| 100/100 [00:39<00:00,  2.55it/s]\n"
     ]
    },
    {
     "name": "stdout",
     "output_type": "stream",
     "text": [
      "21 0.566100001335144\n"
     ]
    },
    {
     "name": "stderr",
     "output_type": "stream",
     "text": [
      "current loss:-5.295073509216309: 100%|██████████| 100/100 [00:39<00:00,  2.55it/s]\n"
     ]
    },
    {
     "name": "stdout",
     "output_type": "stream",
     "text": [
      "22 0.5636999607086182\n"
     ]
    },
    {
     "name": "stderr",
     "output_type": "stream",
     "text": [
      "current loss:-5.545943260192871: 100%|██████████| 100/100 [00:39<00:00,  2.55it/s]\n"
     ]
    },
    {
     "name": "stdout",
     "output_type": "stream",
     "text": [
      "23 0.5619999766349792\n"
     ]
    },
    {
     "name": "stderr",
     "output_type": "stream",
     "text": [
      "current loss:-5.802941799163818: 100%|██████████| 100/100 [00:39<00:00,  2.55it/s]\n"
     ]
    },
    {
     "name": "stdout",
     "output_type": "stream",
     "text": [
      "24 0.5579999685287476\n"
     ]
    },
    {
     "name": "stderr",
     "output_type": "stream",
     "text": [
      "current loss:-9.196744918823242: 100%|██████████| 100/100 [00:39<00:00,  2.55it/s]\n"
     ]
    },
    {
     "name": "stdout",
     "output_type": "stream",
     "text": [
      "0 0.19299998879432678\n"
     ]
    },
    {
     "name": "stderr",
     "output_type": "stream",
     "text": [
      "current loss:-11.32640266418457: 100%|██████████| 100/100 [00:39<00:00,  2.55it/s]\n"
     ]
    },
    {
     "name": "stdout",
     "output_type": "stream",
     "text": [
      "1 0.2825999855995178\n"
     ]
    },
    {
     "name": "stderr",
     "output_type": "stream",
     "text": [
      "current loss:-13.464174270629883: 100%|██████████| 100/100 [00:39<00:00,  2.55it/s]\n"
     ]
    },
    {
     "name": "stdout",
     "output_type": "stream",
     "text": [
      "2 0.39969998598098755\n"
     ]
    },
    {
     "name": "stderr",
     "output_type": "stream",
     "text": [
      "current loss:-15.637735366821289: 100%|██████████| 100/100 [00:39<00:00,  2.55it/s]\n"
     ]
    },
    {
     "name": "stdout",
     "output_type": "stream",
     "text": [
      "3 0.4633999764919281\n"
     ]
    },
    {
     "name": "stderr",
     "output_type": "stream",
     "text": [
      "current loss:-17.830623626708984: 100%|██████████| 100/100 [00:39<00:00,  2.55it/s]\n"
     ]
    },
    {
     "name": "stdout",
     "output_type": "stream",
     "text": [
      "4 0.5012999773025513\n"
     ]
    },
    {
     "name": "stderr",
     "output_type": "stream",
     "text": [
      "current loss:-20.054378509521484: 100%|██████████| 100/100 [00:39<00:00,  2.55it/s]\n"
     ]
    },
    {
     "name": "stdout",
     "output_type": "stream",
     "text": [
      "5 0.5130999684333801\n"
     ]
    },
    {
     "name": "stderr",
     "output_type": "stream",
     "text": [
      "current loss:-22.304759979248047: 100%|██████████| 100/100 [00:39<00:00,  2.53it/s]\n"
     ]
    },
    {
     "name": "stdout",
     "output_type": "stream",
     "text": [
      "6 0.5200999975204468\n"
     ]
    },
    {
     "name": "stderr",
     "output_type": "stream",
     "text": [
      "current loss:-24.59463882446289: 100%|██████████| 100/100 [00:40<00:00,  2.46it/s]\n"
     ]
    },
    {
     "name": "stdout",
     "output_type": "stream",
     "text": [
      "7 0.5356000065803528\n"
     ]
    },
    {
     "name": "stderr",
     "output_type": "stream",
     "text": [
      "current loss:-26.91897201538086: 100%|██████████| 100/100 [00:39<00:00,  2.55it/s]\n"
     ]
    },
    {
     "name": "stdout",
     "output_type": "stream",
     "text": [
      "8 0.5385000109672546\n"
     ]
    },
    {
     "name": "stderr",
     "output_type": "stream",
     "text": [
      "current loss:-29.277400970458984: 100%|██████████| 100/100 [00:39<00:00,  2.56it/s]\n"
     ]
    },
    {
     "name": "stdout",
     "output_type": "stream",
     "text": [
      "9 0.5460999608039856\n"
     ]
    },
    {
     "name": "stderr",
     "output_type": "stream",
     "text": [
      "current loss:-31.66680335998535: 100%|██████████| 100/100 [00:39<00:00,  2.56it/s]\n"
     ]
    },
    {
     "name": "stdout",
     "output_type": "stream",
     "text": [
      "10 0.5464999675750732\n"
     ]
    },
    {
     "name": "stderr",
     "output_type": "stream",
     "text": [
      "current loss:-34.08585739135742: 100%|██████████| 100/100 [00:39<00:00,  2.56it/s]\n"
     ]
    },
    {
     "name": "stdout",
     "output_type": "stream",
     "text": [
      "11 0.5473999977111816\n"
     ]
    },
    {
     "name": "stderr",
     "output_type": "stream",
     "text": [
      "current loss:-36.531280517578125: 100%|██████████| 100/100 [00:39<00:00,  2.56it/s]\n"
     ]
    },
    {
     "name": "stdout",
     "output_type": "stream",
     "text": [
      "12 0.5496999621391296\n"
     ]
    },
    {
     "name": "stderr",
     "output_type": "stream",
     "text": [
      "current loss:-39.00173568725586: 100%|██████████| 100/100 [00:39<00:00,  2.56it/s]\n"
     ]
    },
    {
     "name": "stdout",
     "output_type": "stream",
     "text": [
      "13 0.5529999732971191\n"
     ]
    },
    {
     "name": "stderr",
     "output_type": "stream",
     "text": [
      "current loss:-41.49175262451172: 100%|██████████| 100/100 [00:39<00:00,  2.55it/s]\n"
     ]
    },
    {
     "name": "stdout",
     "output_type": "stream",
     "text": [
      "14 0.5537999868392944\n"
     ]
    },
    {
     "name": "stderr",
     "output_type": "stream",
     "text": [
      "current loss:-44.001468658447266: 100%|██████████| 100/100 [00:39<00:00,  2.56it/s]\n"
     ]
    },
    {
     "name": "stdout",
     "output_type": "stream",
     "text": [
      "15 0.5503999590873718\n"
     ]
    },
    {
     "name": "stderr",
     "output_type": "stream",
     "text": [
      "current loss:-46.528194427490234: 100%|██████████| 100/100 [00:39<00:00,  2.56it/s]\n"
     ]
    },
    {
     "name": "stdout",
     "output_type": "stream",
     "text": [
      "16 0.5493000149726868\n"
     ]
    },
    {
     "name": "stderr",
     "output_type": "stream",
     "text": [
      "current loss:-49.07362747192383: 100%|██████████| 100/100 [00:39<00:00,  2.56it/s]\n"
     ]
    },
    {
     "name": "stdout",
     "output_type": "stream",
     "text": [
      "17 0.5498999953269958\n"
     ]
    },
    {
     "name": "stderr",
     "output_type": "stream",
     "text": [
      "current loss:-51.62645721435547: 100%|██████████| 100/100 [00:39<00:00,  2.56it/s]\n"
     ]
    },
    {
     "name": "stdout",
     "output_type": "stream",
     "text": [
      "18 0.5482999682426453\n"
     ]
    },
    {
     "name": "stderr",
     "output_type": "stream",
     "text": [
      "current loss:-54.188720703125: 100%|██████████| 100/100 [00:39<00:00,  2.56it/s]  \n"
     ]
    },
    {
     "name": "stdout",
     "output_type": "stream",
     "text": [
      "19 0.551800012588501\n"
     ]
    },
    {
     "name": "stderr",
     "output_type": "stream",
     "text": [
      "current loss:-56.76062774658203: 100%|██████████| 100/100 [00:39<00:00,  2.56it/s]\n"
     ]
    },
    {
     "name": "stdout",
     "output_type": "stream",
     "text": [
      "20 0.5485000014305115\n"
     ]
    },
    {
     "name": "stderr",
     "output_type": "stream",
     "text": [
      "current loss:-59.335533142089844: 100%|██████████| 100/100 [00:39<00:00,  2.56it/s]\n"
     ]
    },
    {
     "name": "stdout",
     "output_type": "stream",
     "text": [
      "21 0.5514999628067017\n"
     ]
    },
    {
     "name": "stderr",
     "output_type": "stream",
     "text": [
      "current loss:-61.91597366333008: 100%|██████████| 100/100 [00:39<00:00,  2.56it/s]\n"
     ]
    },
    {
     "name": "stdout",
     "output_type": "stream",
     "text": [
      "22 0.545799970626831\n"
     ]
    },
    {
     "name": "stderr",
     "output_type": "stream",
     "text": [
      "current loss:-64.50410461425781: 100%|██████████| 100/100 [00:39<00:00,  2.56it/s]\n"
     ]
    },
    {
     "name": "stdout",
     "output_type": "stream",
     "text": [
      "23 0.5457000136375427\n"
     ]
    },
    {
     "name": "stderr",
     "output_type": "stream",
     "text": [
      "current loss:-67.09716796875: 100%|██████████| 100/100 [00:39<00:00,  2.56it/s]  \n"
     ]
    },
    {
     "name": "stdout",
     "output_type": "stream",
     "text": [
      "24 0.5453999638557434\n"
     ]
    },
    {
     "name": "stderr",
     "output_type": "stream",
     "text": [
      "current loss:-54.608009338378906: 100%|██████████| 100/100 [00:39<00:00,  2.56it/s]\n"
     ]
    },
    {
     "name": "stdout",
     "output_type": "stream",
     "text": [
      "0 0.09959999471902847\n"
     ]
    },
    {
     "name": "stderr",
     "output_type": "stream",
     "text": [
      "current loss:-64.2906723022461: 100%|██████████| 100/100 [00:39<00:00,  2.56it/s] \n"
     ]
    },
    {
     "name": "stdout",
     "output_type": "stream",
     "text": [
      "1 0.1039000004529953\n"
     ]
    },
    {
     "name": "stderr",
     "output_type": "stream",
     "text": [
      "current loss:-74.25144958496094: 100%|██████████| 100/100 [00:39<00:00,  2.56it/s]\n"
     ]
    },
    {
     "name": "stdout",
     "output_type": "stream",
     "text": [
      "2 0.10849999636411667\n"
     ]
    },
    {
     "name": "stderr",
     "output_type": "stream",
     "text": [
      "current loss:-84.49156951904297: 100%|██████████| 100/100 [00:39<00:00,  2.56it/s]\n"
     ]
    },
    {
     "name": "stdout",
     "output_type": "stream",
     "text": [
      "3 0.09969999641180038\n"
     ]
    },
    {
     "name": "stderr",
     "output_type": "stream",
     "text": [
      "current loss:-95.00330352783203: 100%|██████████| 100/100 [00:38<00:00,  2.57it/s]\n"
     ]
    },
    {
     "name": "stdout",
     "output_type": "stream",
     "text": [
      "4 0.09969999641180038\n"
     ]
    },
    {
     "name": "stderr",
     "output_type": "stream",
     "text": [
      "current loss:-105.7753677368164: 100%|██████████| 100/100 [00:39<00:00,  2.55it/s]\n"
     ]
    },
    {
     "name": "stdout",
     "output_type": "stream",
     "text": [
      "5 0.09969999641180038\n"
     ]
    },
    {
     "name": "stderr",
     "output_type": "stream",
     "text": [
      "current loss:-116.79508209228516: 100%|██████████| 100/100 [00:38<00:00,  2.57it/s]\n"
     ]
    },
    {
     "name": "stdout",
     "output_type": "stream",
     "text": [
      "6 0.09999999403953552\n"
     ]
    },
    {
     "name": "stderr",
     "output_type": "stream",
     "text": [
      "current loss:-128.05062866210938: 100%|██████████| 100/100 [00:38<00:00,  2.57it/s]\n"
     ]
    },
    {
     "name": "stdout",
     "output_type": "stream",
     "text": [
      "7 0.17499999701976776\n"
     ]
    },
    {
     "name": "stderr",
     "output_type": "stream",
     "text": [
      "current loss:-139.5282745361328: 100%|██████████| 100/100 [00:38<00:00,  2.58it/s]\n"
     ]
    },
    {
     "name": "stdout",
     "output_type": "stream",
     "text": [
      "8 0.1768999993801117\n"
     ]
    },
    {
     "name": "stderr",
     "output_type": "stream",
     "text": [
      "current loss:-151.2064666748047: 100%|██████████| 100/100 [00:38<00:00,  2.57it/s]\n"
     ]
    },
    {
     "name": "stdout",
     "output_type": "stream",
     "text": [
      "9 0.17979998886585236\n"
     ]
    },
    {
     "name": "stderr",
     "output_type": "stream",
     "text": [
      "current loss:-163.06944274902344: 100%|██████████| 100/100 [00:38<00:00,  2.57it/s]\n"
     ]
    },
    {
     "name": "stdout",
     "output_type": "stream",
     "text": [
      "10 0.18199999630451202\n"
     ]
    },
    {
     "name": "stderr",
     "output_type": "stream",
     "text": [
      "current loss:-175.09982299804688: 100%|██████████| 100/100 [00:38<00:00,  2.57it/s]\n"
     ]
    },
    {
     "name": "stdout",
     "output_type": "stream",
     "text": [
      "11 0.1873999983072281\n"
     ]
    },
    {
     "name": "stderr",
     "output_type": "stream",
     "text": [
      "current loss:-187.27906799316406: 100%|██████████| 100/100 [00:38<00:00,  2.57it/s]\n"
     ]
    },
    {
     "name": "stdout",
     "output_type": "stream",
     "text": [
      "12 0.19139999151229858\n"
     ]
    },
    {
     "name": "stderr",
     "output_type": "stream",
     "text": [
      "current loss:-199.5913543701172: 100%|██████████| 100/100 [00:38<00:00,  2.57it/s]\n"
     ]
    },
    {
     "name": "stdout",
     "output_type": "stream",
     "text": [
      "13 0.19249999523162842\n"
     ]
    },
    {
     "name": "stderr",
     "output_type": "stream",
     "text": [
      "current loss:-212.02267456054688: 100%|██████████| 100/100 [00:38<00:00,  2.58it/s]\n"
     ]
    },
    {
     "name": "stdout",
     "output_type": "stream",
     "text": [
      "14 0.19519999623298645\n"
     ]
    },
    {
     "name": "stderr",
     "output_type": "stream",
     "text": [
      "current loss:-224.5589599609375: 100%|██████████| 100/100 [00:38<00:00,  2.58it/s]\n"
     ]
    },
    {
     "name": "stdout",
     "output_type": "stream",
     "text": [
      "15 0.1939999908208847\n"
     ]
    },
    {
     "name": "stderr",
     "output_type": "stream",
     "text": [
      "current loss:-237.1868133544922: 100%|██████████| 100/100 [00:38<00:00,  2.58it/s]\n"
     ]
    },
    {
     "name": "stdout",
     "output_type": "stream",
     "text": [
      "16 0.19709999859333038\n"
     ]
    },
    {
     "name": "stderr",
     "output_type": "stream",
     "text": [
      "current loss:-249.8935089111328: 100%|██████████| 100/100 [00:38<00:00,  2.57it/s]\n"
     ]
    },
    {
     "name": "stdout",
     "output_type": "stream",
     "text": [
      "17 0.19919998943805695\n"
     ]
    },
    {
     "name": "stderr",
     "output_type": "stream",
     "text": [
      "current loss:-262.6658935546875: 100%|██████████| 100/100 [00:38<00:00,  2.57it/s]\n"
     ]
    },
    {
     "name": "stdout",
     "output_type": "stream",
     "text": [
      "18 0.20269998908042908\n"
     ]
    },
    {
     "name": "stderr",
     "output_type": "stream",
     "text": [
      "current loss:-275.49615478515625: 100%|██████████| 100/100 [00:38<00:00,  2.57it/s]\n"
     ]
    },
    {
     "name": "stdout",
     "output_type": "stream",
     "text": [
      "19 0.2028999924659729\n"
     ]
    },
    {
     "name": "stderr",
     "output_type": "stream",
     "text": [
      "current loss:-288.3742980957031: 100%|██████████| 100/100 [00:38<00:00,  2.57it/s]\n"
     ]
    },
    {
     "name": "stdout",
     "output_type": "stream",
     "text": [
      "20 0.2043999880552292\n"
     ]
    },
    {
     "name": "stderr",
     "output_type": "stream",
     "text": [
      "current loss:-301.2915954589844: 100%|██████████| 100/100 [00:38<00:00,  2.57it/s]\n"
     ]
    },
    {
     "name": "stdout",
     "output_type": "stream",
     "text": [
      "21 0.2013999968767166\n"
     ]
    },
    {
     "name": "stderr",
     "output_type": "stream",
     "text": [
      "current loss:-314.23980712890625: 100%|██████████| 100/100 [00:38<00:00,  2.57it/s]\n"
     ]
    },
    {
     "name": "stdout",
     "output_type": "stream",
     "text": [
      "22 0.20069999992847443\n"
     ]
    },
    {
     "name": "stderr",
     "output_type": "stream",
     "text": [
      "current loss:-327.21221923828125: 100%|██████████| 100/100 [00:38<00:00,  2.57it/s]\n"
     ]
    },
    {
     "name": "stdout",
     "output_type": "stream",
     "text": [
      "23 0.20059999823570251\n"
     ]
    },
    {
     "name": "stderr",
     "output_type": "stream",
     "text": [
      "current loss:-340.2093200683594: 100%|██████████| 100/100 [00:38<00:00,  2.58it/s]\n"
     ]
    },
    {
     "name": "stdout",
     "output_type": "stream",
     "text": [
      "24 0.20430000126361847\n"
     ]
    }
   ],
   "source": [
    "crit = nn.CrossEntropyLoss()\n",
    "for lam1 in [1e-7, 1e-6, 1e-5, 1e-4, 1e-3, 1e-2, 0.1, 0.5]:\n",
    "    student = Cifar_Very_Tiny(10).cuda()\n",
    "    teacher = ResNet18(10).cuda() \n",
    "    teacher.load_state_dict(torch.load('../2021-Project-84/code/resnet18_cifar10.model?raw=true'))\n",
    "    #scheduler = torch.optim.lr_scheduler.StepLR(optim, step_size=10, gamma=0.5)   \n",
    "    mu_feat = nn.Linear(512, 64).cuda()\n",
    "    log_sigma_feat = torch.nn.Parameter(torch.zeros(1).cuda())\n",
    "\n",
    "    #mu_logit = nn.Linear(10, 10).cuda()\n",
    "    #log_sigma_logit = torch.nn.Parameter(torch.zeros(1).cuda())\n",
    "\n",
    "\n",
    "    optim = torch.optim.Adam(list(student.parameters()) + list(mu_feat.parameters()) + [log_sigma_feat])    \n",
    "\n",
    "\n",
    "    for e in range(25):\n",
    "        tq = tqdm.tqdm(train_loader_no_augumentation)\n",
    "        losses = []\n",
    "\n",
    "        for batch_id, (x,y) in enumerate(tq):\n",
    "            x = x.to(device)\n",
    "            y = y.to(device)\n",
    "            optim.zero_grad()\n",
    "            student_feat, student_logits = student.get_features(x, [3,4])\n",
    "            teacher_feat, teacher_logits = teacher.get_features(x, [3,4])\n",
    "            class_loss = crit(student_logits, y)\n",
    "            sigma2 = torch.log(1+torch.exp(log_sigma_feat))\n",
    "            feat_loss = ((mu_feat(teacher_feat) - student_feat)**2).sum(1).mean()/(2*sigma2) + 0.5*torch.log(sigma2)*np.prod(teacher_feat.shape[1:])\n",
    "            #logit_loss =((mu_feat(teacher_feat) - student_feat)**2).sum(1).mean()/(2*sigma2) + 0.5*torch.log(sigma2)*np.prod(teacher_feat.shape[1:])\n",
    "            #lam1 = 0.5\n",
    "            loss = class_loss * (1.0-lam1) + feat_loss * lam1\n",
    "\n",
    "\n",
    "            loss.backward()\n",
    "            optim.step()\n",
    "            losses.append(loss.detach().cpu().numpy())\n",
    "            tq.set_description('current loss:{}'.format(np.mean(losses[-10:])))      \n",
    "        #scheduler.step()\n",
    "        student.eval()\n",
    "        ac = float(accuracy(student, test_loader))\n",
    "        print(e, ac)\n",
    "        student.train()\n",
    "        with open('acc_mi.txt','a') as out:\n",
    "            out.write('{}: {}: {}\\n'.format(lam1, e, ac))"
   ]
  },
  {
   "cell_type": "code",
   "execution_count": 50,
   "metadata": {},
   "outputs": [
    {
     "data": {
      "text/plain": [
       "tensor([0.6931], device='cuda:0', grad_fn=<LogBackward0>)"
      ]
     },
     "execution_count": 50,
     "metadata": {},
     "output_type": "execute_result"
    }
   ],
   "source": []
  }
 ],
 "metadata": {
  "kernelspec": {
   "display_name": "Python 3 (ipykernel)",
   "language": "python",
   "name": "python3"
  },
  "language_info": {
   "codemirror_mode": {
    "name": "ipython",
    "version": 3
   },
   "file_extension": ".py",
   "mimetype": "text/x-python",
   "name": "python",
   "nbconvert_exporter": "python",
   "pygments_lexer": "ipython3",
   "version": "3.8.10"
  },
  "latex_envs": {
   "LaTeX_envs_menu_present": true,
   "autoclose": true,
   "autocomplete": true,
   "bibliofile": "biblio.bib",
   "cite_by": "apalike",
   "current_citInitial": 1,
   "eqLabelWithNumbers": true,
   "eqNumInitial": 1,
   "hotkeys": {
    "equation": "Ctrl-E",
    "itemize": "Ctrl-I"
   },
   "labels_anchors": false,
   "latex_user_defs": false,
   "report_style_numbering": false,
   "user_envs_cfg": false
  },
  "toc": {
   "base_numbering": 1,
   "nav_menu": {},
   "number_sections": false,
   "sideBar": true,
   "skip_h1_title": false,
   "title_cell": "Table of Contents",
   "title_sidebar": "Contents",
   "toc_cell": false,
   "toc_position": {},
   "toc_section_display": true,
   "toc_window_display": false
  },
  "varInspector": {
   "cols": {
    "lenName": 16,
    "lenType": 16,
    "lenVar": 40
   },
   "kernels_config": {
    "python": {
     "delete_cmd_postfix": "",
     "delete_cmd_prefix": "del ",
     "library": "var_list.py",
     "varRefreshCmd": "print(var_dic_list())"
    },
    "r": {
     "delete_cmd_postfix": ") ",
     "delete_cmd_prefix": "rm(",
     "library": "var_list.r",
     "varRefreshCmd": "cat(var_dic_list()) "
    }
   },
   "types_to_exclude": [
    "module",
    "function",
    "builtin_function_or_method",
    "instance",
    "_Feature"
   ],
   "window_display": false
  }
 },
 "nbformat": 4,
 "nbformat_minor": 4
}
